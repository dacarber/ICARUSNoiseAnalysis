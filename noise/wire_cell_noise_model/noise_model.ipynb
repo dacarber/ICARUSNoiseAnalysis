{
 "cells": [
  {
   "cell_type": "markdown",
   "metadata": {},
   "source": [
    "## I. Setup\n",
    "The majority of the code for generating the `WireCell` noise model inputs is placed in the `utilities.py` module. Additionally, we will need access to the `PyROOT` libraries as the noise spectra from the analysis module are stored in a ROOT file. There is some path manipulation that must be done to point the Python kernel at the proper `PyROOT` library area."
   ]
  },
  {
   "cell_type": "code",
   "execution_count": 1,
   "metadata": {},
   "outputs": [
    {
     "name": "stdout",
     "output_type": "stream",
     "text": [
      "Welcome to JupyROOT 6.26/04\n"
     ]
    }
   ],
   "source": [
    "from utilities import get_blocks_tpc, write_blocks\n",
    "import sys\n",
    "import pandas as pd\n",
    "\n",
    "sys.path.append('/Users/mueller/ROOT/install/lib/')\n",
    "\n",
    "from ROOT import TFile, TH2F"
   ]
  },
  {
   "cell_type": "markdown",
   "metadata": {},
   "source": [
    "## II. Background\n",
    "`WireCell` uses the FFT spectra of both the coherent and intrinsic noise components as input to the noise model. Each group of 64 comprised wholly or partially of `wired` channels is configured to have its own distinct spectra for each of the coherent and intrinsic components. The analysis module that produces these spectra has already done the down-sampling of 32 channels to a single spectra, so all that is required is to retrieve each group and place it in the correct location and format within the `WireCell` configuration file. Code from Sergey Martynenko was adapted to work with this particular analysis output format.\n",
    "\n",
    "Each TPC and each component has a separate JSON configuration file (total = 8), which must be compressed prior to handing it to `WireCell`. The helper methods from `utilities.py` handle the formatting. This JSON format is documented below:\n",
    "\n",
    "```\n",
    "[\n",
    "    {\n",
    "        \"group\": 0\n",
    "        \"period\": 400.0,\n",
    "        \"nsamples\": 4096,\n",
    "        \"freqs\": [\n",
    "            0.0,\n",
    "            6.106497313141183e-07,\n",
    "            ... (4096 bins)\n",
    "        ]\n",
    "        \"amps\": [\n",
    "            9.97172161172161e-06,\n",
    "            7.306608207059867e-07,\n",
    "            ... (4096 bins)\n",
    "        ]\n",
    "    }\n",
    "    ... (210 groups of 64 per TPC)\n",
    "]\n",
    "\n",
    "```\n",
    "The keys are as follows:\n",
    "* `group` - Used to match the spectra to a group of channels (configured in group-to-channel map JSON).\n",
    "* `period` - The duration of a single time tick [ns].\n",
    "* `nsamples` - The duration of a single waveform [ticks].\n",
    "* `freqs` - The frequency of each spectra bin. This is \"folded\" about the Nyquist frequency such that bin i is equal to bin 4096 - i.\n",
    "* `amps` - The amplitude of each spectra bin. This is similarly \"folded\" about the Nyquist frequency.\n",
    "\n",
    "Correspondingly, there must be a group-to-channel map file configured. This file provides a mapping between the channel numbers and the correct group. This grouping also controls the coherent structure of noise, assuming the noise component is configured as coherent. All wired channels are represented in the single file. The format of this file is documented below:\n",
    "\n",
    "```\n",
    "[\n",
    "    {\n",
    "        \"groupID\": 0\n",
    "        \"channels\": [\n",
    "            576,\n",
    "            577,\n",
    "            ... (64 channels)\n",
    "        ]\n",
    "    }\n",
    "]\n",
    "```\n",
    "The keys are:\n",
    "* `groupID` - Used to identify the group and match to a spectra through `group` key in the spectra configuration file (above).\n",
    "* `channels` - The list of channels that belong to this group. This determins which channels share the same spectra, and phases for coherent noise.\n",
    "\n",
    "We must first load the ROOT file that we wish to use as the base for the noise model and extract the intrinsic and coherent spectra components. These are each stored as 2D histograms. The `get_blocks_tpc` function handles the organization of spectra and other parameters into a list of dictionaries for the requested TPC and component type. We can then write these blocks to a file using the `write_blocks` function. We can optionally choose to compress this to a `.bz2` file which, while necessary when using as input to `WireCell`, might not be useful for debugging."
   ]
  },
  {
   "cell_type": "code",
   "execution_count": 2,
   "metadata": {},
   "outputs": [],
   "source": [
    "input_file = TFile('/Users/mueller/data/noise/run10265.root', 'read')\n",
    "noise_metrics = pd.read_csv('/Users/mueller/data/run10265_noise.csv')[['channel_id']]\n",
    "base_directory = '/Users/mueller/data/noise_model/rev2/'\n",
    "\n",
    "group_to_channel_map = list()\n",
    "for component in ['coh', 'int']:\n",
    "    histogram = input_file.Get(f'{component}_ffts')\n",
    "    for tpc in [0, 1, 2, 3]:\n",
    "        tpc_name = {0: 'EE', 1: 'EW', 2: 'WE', 3: 'WW'}[tpc]\n",
    "        blocks, maps = get_blocks_tpc(histogram, tpc)\n",
    "        group_to_channel_map += maps\n",
    "        write_blocks(blocks, f'{base_directory}icarus_noise_model_{component}_by_board_TPC{tpc_name}.json', compress=True)\n",
    "    write_blocks(group_to_channel_map, f'{base_directory}icarus_group_to_channel_map.json', compress=True)"
   ]
  }
 ],
 "metadata": {
  "kernelspec": {
   "display_name": "Python 3",
   "language": "python",
   "name": "python3"
  },
  "language_info": {
   "codemirror_mode": {
    "name": "ipython",
    "version": 3
   },
   "file_extension": ".py",
   "mimetype": "text/x-python",
   "name": "python",
   "nbconvert_exporter": "python",
   "pygments_lexer": "ipython3",
   "version": "3.10.4"
  },
  "orig_nbformat": 4
 },
 "nbformat": 4,
 "nbformat_minor": 2
}
