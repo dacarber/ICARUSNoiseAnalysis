{
 "cells": [
  {
   "cell_type": "markdown",
   "metadata": {},
   "source": [
    "## I. Setup\n",
    "The majority of the code for generating the `WireCell` noise model inputs is placed in the `utilities.py` module. Additionally, we will need access to the `PyROOT` libraries as the noise spectra from the analysis module are stored in a ROOT file. There is some path manipulation that must be done to point the Python kernel at the proper `PyROOT` library area."
   ]
  },
  {
   "cell_type": "code",
   "execution_count": 1,
   "metadata": {},
   "outputs": [
    {
     "name": "stdout",
     "output_type": "stream",
     "text": [
      "Welcome to JupyROOT 6.26/04\n"
     ]
    }
   ],
   "source": [
    "from utilities import get_blocks_tpc, write_blocks\n",
    "import sys\n",
    "\n",
    "sys.path.append('/Users/mueller/ROOT/install/lib/')\n",
    "\n",
    "from ROOT import TFile, TH2F"
   ]
  },
  {
   "cell_type": "markdown",
   "metadata": {},
   "source": [
    "## II. Background\n",
    "`WireCell` uses the FFT spectra of both the coherent and intrinsic noise components as input to the noise model. Each group of 32 comprised of `wired` channels is configured to have its own distinct spectra for each of the coherent and intrinsic components. The analysis module that produces these spectra has already done the down-sampling of 32 channels to a single spectra, so all that is required is to retrieve each group and place it in the correct location and format within the `WireCell` configuration file. Code from Sergey Martynenko was adapted to work with this particular analysis output format.\n",
    "\n",
    "Each TPC and each component has a separate JSON configuration file (total = 8), which must be compressed prior to handing it to `WireCell`. The helper methods from `utilities.py` handle the formatting. This JSON format is documented below:\n",
    "\n",
    "```\n",
    "[\n",
    "    {\n",
    "        \"period\": 400.0,\n",
    "        \"nsamples\": 4096,\n",
    "        \"gain\": 8.811970678500002e-10,\n",
    "        \"shaping\": 1.3,\n",
    "        \"wire-delta\": 32.0,\n",
    "        \"const\": 0.0,\n",
    "        \"tpcname\": \"EE\",\n",
    "        \"freqs\": [\n",
    "            0.0,\n",
    "            6.106497313141183e-07,\n",
    "            ... (4096 bins)\n",
    "        ]\n",
    "        \"amps\": [\n",
    "            9.97172161172161e-06,\n",
    "            7.306608207059867e-07,\n",
    "            ... (4096 bins)\n",
    "        ]\n",
    "    }\n",
    "    ... (416 groups of 32 per TPC)\n",
    "]\n",
    "\n",
    "```\n",
    "The keys are as follows:\n",
    "* `period` - The duration of a single time tick [ns].\n",
    "* `nsamples` - The duration of a single waveform [ticks].\n",
    "* `gain` - The gain for the group of wires (constant here).\n",
    "* `shaping` - The shaping time [us].\n",
    "* `wire-delta` - The number of channels spanned by this block (constant at 32 here).\n",
    "* `const` - Additional offset in frequency space [bins] (constant at 0.0 here).\n",
    "* `tpcname` - The name of the TPC (EE, EW, WE, WW).\n",
    "* `freqs` - The frequency of each spectra bin. This is \"folded\" about the Nyquist frequency such that bin i is equal to bin 4096 - i.\n",
    "* `amps` - The amplitude of each spectra bin. This is similarly \"folded\" about the Nyquist frequency.\n",
    "\n",
    "We must first load the ROOT file that we wish to use as the base for the noise model and extract the intrinsic and coherent spectra components. These are each stored as 2D histograms. The `get_blocks_tpc` function handles the organization of spectra and other parameters into a list of dictionaries for the requested TPC and component type. We can then write these blocks to a file using the `write_blocks` function. We can optionally choose to compress this to a `.bz2` file which, while necessary when using as input to `WireCell`, might not be useful for debugging."
   ]
  },
  {
   "cell_type": "code",
   "execution_count": 3,
   "metadata": {},
   "outputs": [],
   "source": [
    "input_file = TFile('/Users/mueller/data/noise/run10265.root', 'read')\n",
    "\n",
    "for component in ['coh', 'int']:\n",
    "    histogram = input_file.Get(f'{component}_ffts')\n",
    "    for tpc in [0, 1, 2, 3]:\n",
    "        tpc_name = {0: 'EE', 1: 'EW', 2: 'WE', 3: 'WW'}[tpc]\n",
    "        blocks = get_blocks_tpc(histogram, tpc)\n",
    "        write_blocks(blocks, f'/Users/mueller/data/icarus_noise_model_{component}_TPC{tpc_name}.json', compress=True)"
   ]
  }
 ],
 "metadata": {
  "kernelspec": {
   "display_name": "Python 3",
   "language": "python",
   "name": "python3"
  },
  "language_info": {
   "codemirror_mode": {
    "name": "ipython",
    "version": 3
   },
   "file_extension": ".py",
   "mimetype": "text/x-python",
   "name": "python",
   "nbconvert_exporter": "python",
   "pygments_lexer": "ipython3",
   "version": "3.10.4"
  },
  "orig_nbformat": 4
 },
 "nbformat": 4,
 "nbformat_minor": 2
}
